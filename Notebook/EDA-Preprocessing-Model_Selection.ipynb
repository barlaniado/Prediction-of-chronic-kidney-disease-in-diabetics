{
 "cells": [
  {
   "cell_type": "code",
   "execution_count": 58,
   "metadata": {
    "ExecuteTime": {
     "end_time": "2021-10-22T07:51:18.935393Z",
     "start_time": "2021-10-22T07:51:18.928359Z"
    }
   },
   "outputs": [],
   "source": [
    "import pandas as pd\n",
    "import numpy as np\n",
    "import seaborn as sns\n",
    "import matplotlib.pyplot as plt\n",
    "import json\n",
    "from tqdm import tqdm\n",
    "from sklearn import svm\n",
    "from sklearn.impute import SimpleImputer\n",
    "from sklearn.compose import ColumnTransformer\n",
    "from sklearn.neighbors import KNeighborsClassifier\n",
    "from sklearn.naive_bayes import GaussianNB\n",
    "from sklearn.model_selection import train_test_split, cross_val_score, RandomizedSearchCV\n",
    "from sklearn.ensemble import RandomForestClassifier,AdaBoostClassifier\n",
    "from sklearn.linear_model import LogisticRegression\n",
    "from sklearn.metrics import recall_score, precision_score, accuracy_score, confusion_matrix, f1_score\n",
    "from imblearn.over_sampling import RandomOverSampler\n",
    "from sklearn.preprocessing import StandardScaler, OneHotEncoder\n",
    "from sklearn.metrics import plot_roc_curve, roc_curve, auc, precision_recall_curve\n",
    "from sklearn.pipeline import Pipeline\n",
    "import pickle"
   ]
  },
  {
   "cell_type": "markdown",
   "metadata": {
    "ExecuteTime": {
     "end_time": "2021-10-21T18:57:49.785167Z",
     "start_time": "2021-10-21T18:57:49.781481Z"
    }
   },
   "source": [
    "First let's read the CSV and do quick EDA:"
   ]
  },
  {
   "cell_type": "code",
   "execution_count": 59,
   "metadata": {},
   "outputs": [],
   "source": [
    "DATA_PATH = '../../../diab_ckd_data.csv'"
   ]
  },
  {
   "cell_type": "code",
   "execution_count": 60,
   "metadata": {
    "ExecuteTime": {
     "end_time": "2021-10-21T22:26:17.358918Z",
     "start_time": "2021-10-21T22:26:17.091827Z"
    }
   },
   "outputs": [],
   "source": [
    "data = pd.read_csv(DATA_PATH)"
   ]
  },
  {
   "cell_type": "markdown",
   "metadata": {},
   "source": [
    "Which colomns do we have?"
   ]
  },
  {
   "cell_type": "code",
   "execution_count": 61,
   "metadata": {
    "ExecuteTime": {
     "end_time": "2021-10-21T22:26:17.447981Z",
     "start_time": "2021-10-21T22:26:17.443440Z"
    },
    "scrolled": true
   },
   "outputs": [
    {
     "data": {
      "text/plain": [
       "Index(['IDS', 'TIME_CRF', 'EVENT_CRF', 'IS_MALE', 'AGE_AT_SDATE', 'AGE_GROUP',\n",
       "       'SES_GROUP', 'MIGZAR', 'IS_HYPERTENSION', 'SE_HYPERTENSION',\n",
       "       'IS_ISCHEMIC_MI', 'SE_ISCHEMIC_MI', 'IS_CVA_TIA', 'SE_CVA_TIA',\n",
       "       'IS_DEMENTIA', 'SE_DEMENTIA', 'IS_ART_SCLE_GEN', 'SE_ART_SCLE_GEN',\n",
       "       'IS_TROMBOPHILIA', 'SE_TROMBOPHILIA', 'IS_IBD', 'SE_IBD',\n",
       "       'BMI_AT_BASELINE', 'SYSTOLA_AT_BASELINE', 'DIASTOLA_AT_BASELINE',\n",
       "       'Creatinine_B_AT_BASELINE', 'Albumin_B_AT_BASELINE',\n",
       "       'Urea_B_AT_BASELINE', 'Glucose_B_AT_BASELINE', 'HbA1C_AT_BASELINE',\n",
       "       'RBCRed_Blood_Cells_AT_BASELINE', 'Hemoglobin_AT_BASELINE',\n",
       "       'Ferritin_AT_BASELINE', 'AST_GOT_AT_BASELINE', 'ALT_GPT_AT_BASELINE',\n",
       "       'Bilirubin_Total_AT_BASELINE', 'Na_Sodium_B_AT_BASELINE',\n",
       "       'K_Potassium_B_AT_BASELINE', 'CaCalcium_B_AT_BASELINE',\n",
       "       'HDLCholesterol_AT_BASELINE', 'LDLCholesterol_AT_BASELINE',\n",
       "       'Triglycerides_AT_BASELINE', 'PTH_AT_BASELINE'],\n",
       "      dtype='object')"
      ]
     },
     "execution_count": 61,
     "metadata": {},
     "output_type": "execute_result"
    }
   ],
   "source": [
    "data.columns"
   ]
  },
  {
   "cell_type": "markdown",
   "metadata": {},
   "source": [
    "Set the column 'EVENT_CRF' as target for our classification problem"
   ]
  },
  {
   "cell_type": "code",
   "execution_count": 62,
   "metadata": {
    "ExecuteTime": {
     "end_time": "2021-10-21T22:26:17.816637Z",
     "start_time": "2021-10-21T22:26:17.813001Z"
    }
   },
   "outputs": [],
   "source": [
    "target_variable = 'EVENT_CRF'"
   ]
  },
  {
   "cell_type": "markdown",
   "metadata": {},
   "source": [
    "### EDA + Preprocessing"
   ]
  },
  {
   "cell_type": "code",
   "execution_count": 63,
   "metadata": {
    "ExecuteTime": {
     "end_time": "2021-10-21T22:26:18.358321Z",
     "start_time": "2021-10-21T22:26:18.353895Z"
    },
    "scrolled": false
   },
   "outputs": [
    {
     "name": "stdout",
     "output_type": "stream",
     "text": [
      "Number of rows: 135475\n",
      "Number of columns: 43\n"
     ]
    }
   ],
   "source": [
    "how_many_rows1 = data.shape[0]\n",
    "how_many_columns1 = data.shape[1]\n",
    "print('Number of rows:', how_many_rows1)\n",
    "print('Number of columns:', how_many_columns1)"
   ]
  },
  {
   "cell_type": "markdown",
   "metadata": {},
   "source": [
    "**Columns and their types**"
   ]
  },
  {
   "cell_type": "code",
   "execution_count": 64,
   "metadata": {
    "ExecuteTime": {
     "end_time": "2021-10-21T22:26:18.812786Z",
     "start_time": "2021-10-21T22:26:18.806370Z"
    },
    "scrolled": false
   },
   "outputs": [
    {
     "name": "stdout",
     "output_type": "stream",
     "text": [
      "**** Float columns ****\n",
      "\n",
      "TIME_CRF\n",
      "AGE_AT_SDATE\n",
      "SE_HYPERTENSION\n",
      "SE_ISCHEMIC_MI\n",
      "SE_CVA_TIA\n",
      "SE_DEMENTIA\n",
      "SE_ART_SCLE_GEN\n",
      "SE_TROMBOPHILIA\n",
      "SE_IBD\n",
      "BMI_AT_BASELINE\n",
      "SYSTOLA_AT_BASELINE\n",
      "DIASTOLA_AT_BASELINE\n",
      "Creatinine_B_AT_BASELINE\n",
      "Albumin_B_AT_BASELINE\n",
      "Urea_B_AT_BASELINE\n",
      "Glucose_B_AT_BASELINE\n",
      "HbA1C_AT_BASELINE\n",
      "RBCRed_Blood_Cells_AT_BASELINE\n",
      "Hemoglobin_AT_BASELINE\n",
      "Ferritin_AT_BASELINE\n",
      "AST_GOT_AT_BASELINE\n",
      "ALT_GPT_AT_BASELINE\n",
      "Bilirubin_Total_AT_BASELINE\n",
      "Na_Sodium_B_AT_BASELINE\n",
      "K_Potassium_B_AT_BASELINE\n",
      "CaCalcium_B_AT_BASELINE\n",
      "HDLCholesterol_AT_BASELINE\n",
      "LDLCholesterol_AT_BASELINE\n",
      "Triglycerides_AT_BASELINE\n",
      "PTH_AT_BASELINE\n"
     ]
    }
   ],
   "source": [
    "print('**** Float columns ****\\n', *data.dtypes[data.dtypes=='float64'].index,sep='\\n')"
   ]
  },
  {
   "cell_type": "code",
   "execution_count": 65,
   "metadata": {
    "ExecuteTime": {
     "end_time": "2021-10-21T22:26:19.241530Z",
     "start_time": "2021-10-21T22:26:19.007452Z"
    }
   },
   "outputs": [
    {
     "data": {
      "text/html": [
       "<div>\n",
       "<style scoped>\n",
       "    .dataframe tbody tr th:only-of-type {\n",
       "        vertical-align: middle;\n",
       "    }\n",
       "\n",
       "    .dataframe tbody tr th {\n",
       "        vertical-align: top;\n",
       "    }\n",
       "\n",
       "    .dataframe thead th {\n",
       "        text-align: right;\n",
       "    }\n",
       "</style>\n",
       "<table border=\"1\" class=\"dataframe\">\n",
       "  <thead>\n",
       "    <tr style=\"text-align: right;\">\n",
       "      <th></th>\n",
       "      <th>TIME_CRF</th>\n",
       "      <th>AGE_AT_SDATE</th>\n",
       "      <th>SE_HYPERTENSION</th>\n",
       "      <th>SE_ISCHEMIC_MI</th>\n",
       "      <th>SE_CVA_TIA</th>\n",
       "      <th>SE_DEMENTIA</th>\n",
       "      <th>SE_ART_SCLE_GEN</th>\n",
       "      <th>SE_TROMBOPHILIA</th>\n",
       "      <th>SE_IBD</th>\n",
       "      <th>BMI_AT_BASELINE</th>\n",
       "      <th>...</th>\n",
       "      <th>AST_GOT_AT_BASELINE</th>\n",
       "      <th>ALT_GPT_AT_BASELINE</th>\n",
       "      <th>Bilirubin_Total_AT_BASELINE</th>\n",
       "      <th>Na_Sodium_B_AT_BASELINE</th>\n",
       "      <th>K_Potassium_B_AT_BASELINE</th>\n",
       "      <th>CaCalcium_B_AT_BASELINE</th>\n",
       "      <th>HDLCholesterol_AT_BASELINE</th>\n",
       "      <th>LDLCholesterol_AT_BASELINE</th>\n",
       "      <th>Triglycerides_AT_BASELINE</th>\n",
       "      <th>PTH_AT_BASELINE</th>\n",
       "    </tr>\n",
       "  </thead>\n",
       "  <tbody>\n",
       "    <tr>\n",
       "      <th>count</th>\n",
       "      <td>135475.000000</td>\n",
       "      <td>135475.000000</td>\n",
       "      <td>50946.000000</td>\n",
       "      <td>4733.000000</td>\n",
       "      <td>1531.000000</td>\n",
       "      <td>709.000000</td>\n",
       "      <td>1523.000000</td>\n",
       "      <td>2501.000000</td>\n",
       "      <td>737.000000</td>\n",
       "      <td>85150.000000</td>\n",
       "      <td>...</td>\n",
       "      <td>94911.000000</td>\n",
       "      <td>118531.000000</td>\n",
       "      <td>65183.000000</td>\n",
       "      <td>112035.000000</td>\n",
       "      <td>113268.000000</td>\n",
       "      <td>88694.000000</td>\n",
       "      <td>123146.000000</td>\n",
       "      <td>117107.000000</td>\n",
       "      <td>123727.000000</td>\n",
       "      <td>3934.000000</td>\n",
       "    </tr>\n",
       "    <tr>\n",
       "      <th>mean</th>\n",
       "      <td>8.417512</td>\n",
       "      <td>56.536291</td>\n",
       "      <td>5.791361</td>\n",
       "      <td>5.814555</td>\n",
       "      <td>4.534265</td>\n",
       "      <td>3.104429</td>\n",
       "      <td>4.372167</td>\n",
       "      <td>4.524774</td>\n",
       "      <td>7.184193</td>\n",
       "      <td>31.529832</td>\n",
       "      <td>...</td>\n",
       "      <td>25.947836</td>\n",
       "      <td>31.103061</td>\n",
       "      <td>0.649898</td>\n",
       "      <td>139.343467</td>\n",
       "      <td>4.426584</td>\n",
       "      <td>9.371676</td>\n",
       "      <td>44.788345</td>\n",
       "      <td>117.017227</td>\n",
       "      <td>182.778248</td>\n",
       "      <td>61.928699</td>\n",
       "    </tr>\n",
       "    <tr>\n",
       "      <th>std</th>\n",
       "      <td>5.738814</td>\n",
       "      <td>12.113483</td>\n",
       "      <td>4.873789</td>\n",
       "      <td>5.096961</td>\n",
       "      <td>4.549460</td>\n",
       "      <td>3.207197</td>\n",
       "      <td>4.048309</td>\n",
       "      <td>4.380038</td>\n",
       "      <td>5.313490</td>\n",
       "      <td>5.567703</td>\n",
       "      <td>...</td>\n",
       "      <td>12.851818</td>\n",
       "      <td>19.183910</td>\n",
       "      <td>0.278893</td>\n",
       "      <td>2.295475</td>\n",
       "      <td>0.333608</td>\n",
       "      <td>0.392577</td>\n",
       "      <td>10.490474</td>\n",
       "      <td>33.419413</td>\n",
       "      <td>95.635219</td>\n",
       "      <td>51.853047</td>\n",
       "    </tr>\n",
       "    <tr>\n",
       "      <th>min</th>\n",
       "      <td>0.000000</td>\n",
       "      <td>18.020000</td>\n",
       "      <td>0.010000</td>\n",
       "      <td>0.010000</td>\n",
       "      <td>0.010000</td>\n",
       "      <td>0.010000</td>\n",
       "      <td>0.010000</td>\n",
       "      <td>0.010000</td>\n",
       "      <td>0.010000</td>\n",
       "      <td>19.250000</td>\n",
       "      <td>...</td>\n",
       "      <td>10.000000</td>\n",
       "      <td>6.000000</td>\n",
       "      <td>0.200000</td>\n",
       "      <td>130.000000</td>\n",
       "      <td>3.400000</td>\n",
       "      <td>7.800000</td>\n",
       "      <td>23.700000</td>\n",
       "      <td>32.400000</td>\n",
       "      <td>46.000000</td>\n",
       "      <td>8.000000</td>\n",
       "    </tr>\n",
       "    <tr>\n",
       "      <th>25%</th>\n",
       "      <td>3.550000</td>\n",
       "      <td>48.375000</td>\n",
       "      <td>1.660000</td>\n",
       "      <td>1.610000</td>\n",
       "      <td>1.015000</td>\n",
       "      <td>0.620000</td>\n",
       "      <td>1.285000</td>\n",
       "      <td>1.030000</td>\n",
       "      <td>2.680000</td>\n",
       "      <td>27.585000</td>\n",
       "      <td>...</td>\n",
       "      <td>18.500000</td>\n",
       "      <td>19.000000</td>\n",
       "      <td>0.500000</td>\n",
       "      <td>138.000000</td>\n",
       "      <td>4.200000</td>\n",
       "      <td>9.100000</td>\n",
       "      <td>37.200000</td>\n",
       "      <td>93.400000</td>\n",
       "      <td>118.000000</td>\n",
       "      <td>32.000000</td>\n",
       "    </tr>\n",
       "    <tr>\n",
       "      <th>50%</th>\n",
       "      <td>7.520000</td>\n",
       "      <td>56.450000</td>\n",
       "      <td>4.650000</td>\n",
       "      <td>4.680000</td>\n",
       "      <td>3.170000</td>\n",
       "      <td>2.070000</td>\n",
       "      <td>3.140000</td>\n",
       "      <td>3.130000</td>\n",
       "      <td>6.340000</td>\n",
       "      <td>30.850000</td>\n",
       "      <td>...</td>\n",
       "      <td>22.500000</td>\n",
       "      <td>26.000000</td>\n",
       "      <td>0.600000</td>\n",
       "      <td>139.000000</td>\n",
       "      <td>4.400000</td>\n",
       "      <td>9.400000</td>\n",
       "      <td>43.150000</td>\n",
       "      <td>115.700000</td>\n",
       "      <td>160.000000</td>\n",
       "      <td>48.650000</td>\n",
       "    </tr>\n",
       "    <tr>\n",
       "      <th>75%</th>\n",
       "      <td>12.760000</td>\n",
       "      <td>64.910000</td>\n",
       "      <td>9.010000</td>\n",
       "      <td>8.660000</td>\n",
       "      <td>6.580000</td>\n",
       "      <td>4.510000</td>\n",
       "      <td>6.340000</td>\n",
       "      <td>6.830000</td>\n",
       "      <td>11.120000</td>\n",
       "      <td>34.830000</td>\n",
       "      <td>...</td>\n",
       "      <td>28.700000</td>\n",
       "      <td>37.000000</td>\n",
       "      <td>0.800000</td>\n",
       "      <td>141.000000</td>\n",
       "      <td>4.600000</td>\n",
       "      <td>9.600000</td>\n",
       "      <td>50.600000</td>\n",
       "      <td>139.000000</td>\n",
       "      <td>221.000000</td>\n",
       "      <td>74.000000</td>\n",
       "    </tr>\n",
       "    <tr>\n",
       "      <th>max</th>\n",
       "      <td>21.000000</td>\n",
       "      <td>100.700000</td>\n",
       "      <td>22.830000</td>\n",
       "      <td>25.430000</td>\n",
       "      <td>55.150000</td>\n",
       "      <td>16.410000</td>\n",
       "      <td>21.950000</td>\n",
       "      <td>20.520000</td>\n",
       "      <td>20.650000</td>\n",
       "      <td>51.260000</td>\n",
       "      <td>...</td>\n",
       "      <td>124.000000</td>\n",
       "      <td>153.000000</td>\n",
       "      <td>2.500000</td>\n",
       "      <td>146.000000</td>\n",
       "      <td>5.800000</td>\n",
       "      <td>10.900000</td>\n",
       "      <td>89.000000</td>\n",
       "      <td>222.500000</td>\n",
       "      <td>764.000000</td>\n",
       "      <td>596.000000</td>\n",
       "    </tr>\n",
       "  </tbody>\n",
       "</table>\n",
       "<p>8 rows × 30 columns</p>\n",
       "</div>"
      ],
      "text/plain": [
       "            TIME_CRF   AGE_AT_SDATE  SE_HYPERTENSION  SE_ISCHEMIC_MI  \\\n",
       "count  135475.000000  135475.000000     50946.000000     4733.000000   \n",
       "mean        8.417512      56.536291         5.791361        5.814555   \n",
       "std         5.738814      12.113483         4.873789        5.096961   \n",
       "min         0.000000      18.020000         0.010000        0.010000   \n",
       "25%         3.550000      48.375000         1.660000        1.610000   \n",
       "50%         7.520000      56.450000         4.650000        4.680000   \n",
       "75%        12.760000      64.910000         9.010000        8.660000   \n",
       "max        21.000000     100.700000        22.830000       25.430000   \n",
       "\n",
       "        SE_CVA_TIA  SE_DEMENTIA  SE_ART_SCLE_GEN  SE_TROMBOPHILIA      SE_IBD  \\\n",
       "count  1531.000000   709.000000      1523.000000      2501.000000  737.000000   \n",
       "mean      4.534265     3.104429         4.372167         4.524774    7.184193   \n",
       "std       4.549460     3.207197         4.048309         4.380038    5.313490   \n",
       "min       0.010000     0.010000         0.010000         0.010000    0.010000   \n",
       "25%       1.015000     0.620000         1.285000         1.030000    2.680000   \n",
       "50%       3.170000     2.070000         3.140000         3.130000    6.340000   \n",
       "75%       6.580000     4.510000         6.340000         6.830000   11.120000   \n",
       "max      55.150000    16.410000        21.950000        20.520000   20.650000   \n",
       "\n",
       "       BMI_AT_BASELINE  ...  AST_GOT_AT_BASELINE  ALT_GPT_AT_BASELINE  \\\n",
       "count     85150.000000  ...         94911.000000        118531.000000   \n",
       "mean         31.529832  ...            25.947836            31.103061   \n",
       "std           5.567703  ...            12.851818            19.183910   \n",
       "min          19.250000  ...            10.000000             6.000000   \n",
       "25%          27.585000  ...            18.500000            19.000000   \n",
       "50%          30.850000  ...            22.500000            26.000000   \n",
       "75%          34.830000  ...            28.700000            37.000000   \n",
       "max          51.260000  ...           124.000000           153.000000   \n",
       "\n",
       "       Bilirubin_Total_AT_BASELINE  Na_Sodium_B_AT_BASELINE  \\\n",
       "count                 65183.000000            112035.000000   \n",
       "mean                      0.649898               139.343467   \n",
       "std                       0.278893                 2.295475   \n",
       "min                       0.200000               130.000000   \n",
       "25%                       0.500000               138.000000   \n",
       "50%                       0.600000               139.000000   \n",
       "75%                       0.800000               141.000000   \n",
       "max                       2.500000               146.000000   \n",
       "\n",
       "       K_Potassium_B_AT_BASELINE  CaCalcium_B_AT_BASELINE  \\\n",
       "count              113268.000000             88694.000000   \n",
       "mean                    4.426584                 9.371676   \n",
       "std                     0.333608                 0.392577   \n",
       "min                     3.400000                 7.800000   \n",
       "25%                     4.200000                 9.100000   \n",
       "50%                     4.400000                 9.400000   \n",
       "75%                     4.600000                 9.600000   \n",
       "max                     5.800000                10.900000   \n",
       "\n",
       "       HDLCholesterol_AT_BASELINE  LDLCholesterol_AT_BASELINE  \\\n",
       "count               123146.000000               117107.000000   \n",
       "mean                    44.788345                  117.017227   \n",
       "std                     10.490474                   33.419413   \n",
       "min                     23.700000                   32.400000   \n",
       "25%                     37.200000                   93.400000   \n",
       "50%                     43.150000                  115.700000   \n",
       "75%                     50.600000                  139.000000   \n",
       "max                     89.000000                  222.500000   \n",
       "\n",
       "       Triglycerides_AT_BASELINE  PTH_AT_BASELINE  \n",
       "count              123727.000000      3934.000000  \n",
       "mean                  182.778248        61.928699  \n",
       "std                    95.635219        51.853047  \n",
       "min                    46.000000         8.000000  \n",
       "25%                   118.000000        32.000000  \n",
       "50%                   160.000000        48.650000  \n",
       "75%                   221.000000        74.000000  \n",
       "max                   764.000000       596.000000  \n",
       "\n",
       "[8 rows x 30 columns]"
      ]
     },
     "execution_count": 65,
     "metadata": {},
     "output_type": "execute_result"
    }
   ],
   "source": [
    "float_columns = list(data.dtypes[data.dtypes=='float64'].index)\n",
    "data[float_columns].describe()"
   ]
  },
  {
   "cell_type": "code",
   "execution_count": 66,
   "metadata": {
    "ExecuteTime": {
     "end_time": "2021-10-21T22:26:19.244818Z",
     "start_time": "2021-10-21T22:26:19.242500Z"
    },
    "scrolled": false
   },
   "outputs": [
    {
     "name": "stdout",
     "output_type": "stream",
     "text": [
      "**** Int columns ****\n",
      "\n",
      "IDS\n",
      "EVENT_CRF\n",
      "IS_MALE\n",
      "IS_HYPERTENSION\n",
      "IS_ISCHEMIC_MI\n",
      "IS_CVA_TIA\n",
      "IS_DEMENTIA\n",
      "IS_ART_SCLE_GEN\n",
      "IS_TROMBOPHILIA\n",
      "IS_IBD\n"
     ]
    }
   ],
   "source": [
    "print('**** Int columns ****\\n', *data.dtypes[data.dtypes=='int64'].index,sep='\\n')"
   ]
  },
  {
   "cell_type": "code",
   "execution_count": 67,
   "metadata": {
    "ExecuteTime": {
     "end_time": "2021-10-21T22:26:19.498332Z",
     "start_time": "2021-10-21T22:26:19.494311Z"
    }
   },
   "outputs": [],
   "source": [
    "int_columns = list(data.dtypes[data.dtypes=='int64'].index)"
   ]
  },
  {
   "cell_type": "markdown",
   "metadata": {},
   "source": [
    "Let's see how many of the int columns are NULLs:"
   ]
  },
  {
   "cell_type": "code",
   "execution_count": 68,
   "metadata": {
    "ExecuteTime": {
     "end_time": "2021-10-21T22:26:20.629236Z",
     "start_time": "2021-10-21T22:26:20.612869Z"
    }
   },
   "outputs": [
    {
     "data": {
      "text/plain": [
       "IDS                0\n",
       "EVENT_CRF          0\n",
       "IS_MALE            0\n",
       "IS_HYPERTENSION    0\n",
       "IS_ISCHEMIC_MI     0\n",
       "IS_CVA_TIA         0\n",
       "IS_DEMENTIA        0\n",
       "IS_ART_SCLE_GEN    0\n",
       "IS_TROMBOPHILIA    0\n",
       "IS_IBD             0\n",
       "dtype: int64"
      ]
     },
     "execution_count": 68,
     "metadata": {},
     "output_type": "execute_result"
    }
   ],
   "source": [
    "data[int_columns].isna().sum()"
   ]
  },
  {
   "cell_type": "markdown",
   "metadata": {},
   "source": [
    "None of them"
   ]
  },
  {
   "cell_type": "code",
   "execution_count": 69,
   "metadata": {
    "ExecuteTime": {
     "end_time": "2021-10-21T22:26:21.329083Z",
     "start_time": "2021-10-21T22:26:21.262675Z"
    },
    "scrolled": false
   },
   "outputs": [
    {
     "data": {
      "text/html": [
       "<div>\n",
       "<style scoped>\n",
       "    .dataframe tbody tr th:only-of-type {\n",
       "        vertical-align: middle;\n",
       "    }\n",
       "\n",
       "    .dataframe tbody tr th {\n",
       "        vertical-align: top;\n",
       "    }\n",
       "\n",
       "    .dataframe thead th {\n",
       "        text-align: right;\n",
       "    }\n",
       "</style>\n",
       "<table border=\"1\" class=\"dataframe\">\n",
       "  <thead>\n",
       "    <tr style=\"text-align: right;\">\n",
       "      <th></th>\n",
       "      <th>IDS</th>\n",
       "      <th>EVENT_CRF</th>\n",
       "      <th>IS_MALE</th>\n",
       "      <th>IS_HYPERTENSION</th>\n",
       "      <th>IS_ISCHEMIC_MI</th>\n",
       "      <th>IS_CVA_TIA</th>\n",
       "      <th>IS_DEMENTIA</th>\n",
       "      <th>IS_ART_SCLE_GEN</th>\n",
       "      <th>IS_TROMBOPHILIA</th>\n",
       "      <th>IS_IBD</th>\n",
       "    </tr>\n",
       "  </thead>\n",
       "  <tbody>\n",
       "    <tr>\n",
       "      <th>count</th>\n",
       "      <td>135475.000000</td>\n",
       "      <td>135475.000000</td>\n",
       "      <td>135475.000000</td>\n",
       "      <td>135475.000000</td>\n",
       "      <td>135475.000000</td>\n",
       "      <td>135475.000000</td>\n",
       "      <td>135475.000000</td>\n",
       "      <td>135475.000000</td>\n",
       "      <td>135475.000000</td>\n",
       "      <td>135475.000000</td>\n",
       "    </tr>\n",
       "    <tr>\n",
       "      <th>mean</th>\n",
       "      <td>67738.000000</td>\n",
       "      <td>0.106256</td>\n",
       "      <td>0.572320</td>\n",
       "      <td>0.378542</td>\n",
       "      <td>0.035032</td>\n",
       "      <td>0.011308</td>\n",
       "      <td>0.005263</td>\n",
       "      <td>0.011286</td>\n",
       "      <td>0.018513</td>\n",
       "      <td>0.005447</td>\n",
       "    </tr>\n",
       "    <tr>\n",
       "      <th>std</th>\n",
       "      <td>39108.408197</td>\n",
       "      <td>0.308166</td>\n",
       "      <td>0.494744</td>\n",
       "      <td>0.485025</td>\n",
       "      <td>0.183862</td>\n",
       "      <td>0.105738</td>\n",
       "      <td>0.072355</td>\n",
       "      <td>0.105636</td>\n",
       "      <td>0.134796</td>\n",
       "      <td>0.073606</td>\n",
       "    </tr>\n",
       "    <tr>\n",
       "      <th>min</th>\n",
       "      <td>1.000000</td>\n",
       "      <td>0.000000</td>\n",
       "      <td>0.000000</td>\n",
       "      <td>0.000000</td>\n",
       "      <td>0.000000</td>\n",
       "      <td>0.000000</td>\n",
       "      <td>0.000000</td>\n",
       "      <td>0.000000</td>\n",
       "      <td>0.000000</td>\n",
       "      <td>0.000000</td>\n",
       "    </tr>\n",
       "    <tr>\n",
       "      <th>25%</th>\n",
       "      <td>33869.500000</td>\n",
       "      <td>0.000000</td>\n",
       "      <td>0.000000</td>\n",
       "      <td>0.000000</td>\n",
       "      <td>0.000000</td>\n",
       "      <td>0.000000</td>\n",
       "      <td>0.000000</td>\n",
       "      <td>0.000000</td>\n",
       "      <td>0.000000</td>\n",
       "      <td>0.000000</td>\n",
       "    </tr>\n",
       "    <tr>\n",
       "      <th>50%</th>\n",
       "      <td>67738.000000</td>\n",
       "      <td>0.000000</td>\n",
       "      <td>1.000000</td>\n",
       "      <td>0.000000</td>\n",
       "      <td>0.000000</td>\n",
       "      <td>0.000000</td>\n",
       "      <td>0.000000</td>\n",
       "      <td>0.000000</td>\n",
       "      <td>0.000000</td>\n",
       "      <td>0.000000</td>\n",
       "    </tr>\n",
       "    <tr>\n",
       "      <th>75%</th>\n",
       "      <td>101606.500000</td>\n",
       "      <td>0.000000</td>\n",
       "      <td>1.000000</td>\n",
       "      <td>1.000000</td>\n",
       "      <td>0.000000</td>\n",
       "      <td>0.000000</td>\n",
       "      <td>0.000000</td>\n",
       "      <td>0.000000</td>\n",
       "      <td>0.000000</td>\n",
       "      <td>0.000000</td>\n",
       "    </tr>\n",
       "    <tr>\n",
       "      <th>max</th>\n",
       "      <td>135475.000000</td>\n",
       "      <td>1.000000</td>\n",
       "      <td>1.000000</td>\n",
       "      <td>1.000000</td>\n",
       "      <td>1.000000</td>\n",
       "      <td>1.000000</td>\n",
       "      <td>1.000000</td>\n",
       "      <td>1.000000</td>\n",
       "      <td>1.000000</td>\n",
       "      <td>1.000000</td>\n",
       "    </tr>\n",
       "  </tbody>\n",
       "</table>\n",
       "</div>"
      ],
      "text/plain": [
       "                 IDS      EVENT_CRF        IS_MALE  IS_HYPERTENSION  \\\n",
       "count  135475.000000  135475.000000  135475.000000    135475.000000   \n",
       "mean    67738.000000       0.106256       0.572320         0.378542   \n",
       "std     39108.408197       0.308166       0.494744         0.485025   \n",
       "min         1.000000       0.000000       0.000000         0.000000   \n",
       "25%     33869.500000       0.000000       0.000000         0.000000   \n",
       "50%     67738.000000       0.000000       1.000000         0.000000   \n",
       "75%    101606.500000       0.000000       1.000000         1.000000   \n",
       "max    135475.000000       1.000000       1.000000         1.000000   \n",
       "\n",
       "       IS_ISCHEMIC_MI     IS_CVA_TIA    IS_DEMENTIA  IS_ART_SCLE_GEN  \\\n",
       "count   135475.000000  135475.000000  135475.000000    135475.000000   \n",
       "mean         0.035032       0.011308       0.005263         0.011286   \n",
       "std          0.183862       0.105738       0.072355         0.105636   \n",
       "min          0.000000       0.000000       0.000000         0.000000   \n",
       "25%          0.000000       0.000000       0.000000         0.000000   \n",
       "50%          0.000000       0.000000       0.000000         0.000000   \n",
       "75%          0.000000       0.000000       0.000000         0.000000   \n",
       "max          1.000000       1.000000       1.000000         1.000000   \n",
       "\n",
       "       IS_TROMBOPHILIA         IS_IBD  \n",
       "count    135475.000000  135475.000000  \n",
       "mean          0.018513       0.005447  \n",
       "std           0.134796       0.073606  \n",
       "min           0.000000       0.000000  \n",
       "25%           0.000000       0.000000  \n",
       "50%           0.000000       0.000000  \n",
       "75%           0.000000       0.000000  \n",
       "max           1.000000       1.000000  "
      ]
     },
     "execution_count": 69,
     "metadata": {},
     "output_type": "execute_result"
    }
   ],
   "source": [
    "data[int_columns].describe()"
   ]
  },
  {
   "cell_type": "code",
   "execution_count": 70,
   "metadata": {
    "ExecuteTime": {
     "end_time": "2021-10-21T22:26:21.929896Z",
     "start_time": "2021-10-21T22:26:21.925390Z"
    },
    "scrolled": true
   },
   "outputs": [
    {
     "name": "stdout",
     "output_type": "stream",
     "text": [
      "**** Object columns ****\n",
      "\n",
      "AGE_GROUP\n",
      "SES_GROUP\n",
      "MIGZAR\n"
     ]
    }
   ],
   "source": [
    "print('**** Object columns ****\\n', *data.dtypes[data.dtypes=='object'].index,sep='\\n')"
   ]
  },
  {
   "cell_type": "markdown",
   "metadata": {},
   "source": [
    "### Get Dummies - Object columns "
   ]
  },
  {
   "cell_type": "code",
   "execution_count": 71,
   "metadata": {
    "ExecuteTime": {
     "end_time": "2021-10-21T22:26:24.771135Z",
     "start_time": "2021-10-21T22:26:24.755685Z"
    }
   },
   "outputs": [
    {
     "data": {
      "text/html": [
       "<div>\n",
       "<style scoped>\n",
       "    .dataframe tbody tr th:only-of-type {\n",
       "        vertical-align: middle;\n",
       "    }\n",
       "\n",
       "    .dataframe tbody tr th {\n",
       "        vertical-align: top;\n",
       "    }\n",
       "\n",
       "    .dataframe thead th {\n",
       "        text-align: right;\n",
       "    }\n",
       "</style>\n",
       "<table border=\"1\" class=\"dataframe\">\n",
       "  <thead>\n",
       "    <tr style=\"text-align: right;\">\n",
       "      <th></th>\n",
       "      <th>AGE_GROUP</th>\n",
       "      <th>SES_GROUP</th>\n",
       "      <th>MIGZAR</th>\n",
       "    </tr>\n",
       "  </thead>\n",
       "  <tbody>\n",
       "    <tr>\n",
       "      <th>0</th>\n",
       "      <td>[60, 75)</td>\n",
       "      <td>HI</td>\n",
       "      <td>GENERAL</td>\n",
       "    </tr>\n",
       "    <tr>\n",
       "      <th>1</th>\n",
       "      <td>[60, 75)</td>\n",
       "      <td>MID</td>\n",
       "      <td>GENERAL</td>\n",
       "    </tr>\n",
       "    <tr>\n",
       "      <th>2</th>\n",
       "      <td>[45, 60)</td>\n",
       "      <td>MID</td>\n",
       "      <td>HAREDI</td>\n",
       "    </tr>\n",
       "    <tr>\n",
       "      <th>3</th>\n",
       "      <td>[75, 120)</td>\n",
       "      <td>MID</td>\n",
       "      <td>GENERAL</td>\n",
       "    </tr>\n",
       "    <tr>\n",
       "      <th>4</th>\n",
       "      <td>[75, 120)</td>\n",
       "      <td>HI</td>\n",
       "      <td>GENERAL</td>\n",
       "    </tr>\n",
       "    <tr>\n",
       "      <th>...</th>\n",
       "      <td>...</td>\n",
       "      <td>...</td>\n",
       "      <td>...</td>\n",
       "    </tr>\n",
       "    <tr>\n",
       "      <th>135470</th>\n",
       "      <td>[18, 30)</td>\n",
       "      <td>HI</td>\n",
       "      <td>GENERAL</td>\n",
       "    </tr>\n",
       "    <tr>\n",
       "      <th>135471</th>\n",
       "      <td>[45, 60)</td>\n",
       "      <td>MID</td>\n",
       "      <td>GENERAL</td>\n",
       "    </tr>\n",
       "    <tr>\n",
       "      <th>135472</th>\n",
       "      <td>[60, 75)</td>\n",
       "      <td>MID</td>\n",
       "      <td>GENERAL</td>\n",
       "    </tr>\n",
       "    <tr>\n",
       "      <th>135473</th>\n",
       "      <td>[45, 60)</td>\n",
       "      <td>MID</td>\n",
       "      <td>GENERAL</td>\n",
       "    </tr>\n",
       "    <tr>\n",
       "      <th>135474</th>\n",
       "      <td>[60, 75)</td>\n",
       "      <td>LOW</td>\n",
       "      <td>GENERAL</td>\n",
       "    </tr>\n",
       "  </tbody>\n",
       "</table>\n",
       "<p>135475 rows × 3 columns</p>\n",
       "</div>"
      ],
      "text/plain": [
       "        AGE_GROUP SES_GROUP   MIGZAR\n",
       "0        [60, 75)        HI  GENERAL\n",
       "1        [60, 75)       MID  GENERAL\n",
       "2        [45, 60)       MID   HAREDI\n",
       "3       [75, 120)       MID  GENERAL\n",
       "4       [75, 120)        HI  GENERAL\n",
       "...           ...       ...      ...\n",
       "135470   [18, 30)        HI  GENERAL\n",
       "135471   [45, 60)       MID  GENERAL\n",
       "135472   [60, 75)       MID  GENERAL\n",
       "135473   [45, 60)       MID  GENERAL\n",
       "135474   [60, 75)       LOW  GENERAL\n",
       "\n",
       "[135475 rows x 3 columns]"
      ]
     },
     "execution_count": 71,
     "metadata": {},
     "output_type": "execute_result"
    }
   ],
   "source": [
    "cat_cols = list(data.dtypes[data.dtypes=='object'].index)\n",
    "data[cat_cols]"
   ]
  },
  {
   "cell_type": "code",
   "execution_count": 72,
   "metadata": {
    "ExecuteTime": {
     "end_time": "2021-10-21T22:26:27.626432Z",
     "start_time": "2021-10-21T22:26:27.522483Z"
    },
    "scrolled": true
   },
   "outputs": [
    {
     "data": {
      "text/html": [
       "<div>\n",
       "<style scoped>\n",
       "    .dataframe tbody tr th:only-of-type {\n",
       "        vertical-align: middle;\n",
       "    }\n",
       "\n",
       "    .dataframe tbody tr th {\n",
       "        vertical-align: top;\n",
       "    }\n",
       "\n",
       "    .dataframe thead th {\n",
       "        text-align: right;\n",
       "    }\n",
       "</style>\n",
       "<table border=\"1\" class=\"dataframe\">\n",
       "  <thead>\n",
       "    <tr style=\"text-align: right;\">\n",
       "      <th></th>\n",
       "      <th>AGE_GROUP_[18, 30)</th>\n",
       "      <th>AGE_GROUP_[30, 45)</th>\n",
       "      <th>AGE_GROUP_[45, 60)</th>\n",
       "      <th>AGE_GROUP_[60, 75)</th>\n",
       "      <th>AGE_GROUP_[75, 120)</th>\n",
       "      <th>SES_GROUP_HI</th>\n",
       "      <th>SES_GROUP_LOW</th>\n",
       "      <th>SES_GROUP_MID</th>\n",
       "      <th>SES_GROUP_OTHER</th>\n",
       "      <th>MIGZAR_ARAB</th>\n",
       "      <th>MIGZAR_GENERAL</th>\n",
       "      <th>MIGZAR_HAREDI</th>\n",
       "    </tr>\n",
       "  </thead>\n",
       "  <tbody>\n",
       "    <tr>\n",
       "      <th>0</th>\n",
       "      <td>0.0</td>\n",
       "      <td>0.0</td>\n",
       "      <td>0.0</td>\n",
       "      <td>1.0</td>\n",
       "      <td>0.0</td>\n",
       "      <td>1.0</td>\n",
       "      <td>0.0</td>\n",
       "      <td>0.0</td>\n",
       "      <td>0.0</td>\n",
       "      <td>0.0</td>\n",
       "      <td>1.0</td>\n",
       "      <td>0.0</td>\n",
       "    </tr>\n",
       "    <tr>\n",
       "      <th>1</th>\n",
       "      <td>0.0</td>\n",
       "      <td>0.0</td>\n",
       "      <td>0.0</td>\n",
       "      <td>1.0</td>\n",
       "      <td>0.0</td>\n",
       "      <td>0.0</td>\n",
       "      <td>0.0</td>\n",
       "      <td>1.0</td>\n",
       "      <td>0.0</td>\n",
       "      <td>0.0</td>\n",
       "      <td>1.0</td>\n",
       "      <td>0.0</td>\n",
       "    </tr>\n",
       "    <tr>\n",
       "      <th>2</th>\n",
       "      <td>0.0</td>\n",
       "      <td>0.0</td>\n",
       "      <td>1.0</td>\n",
       "      <td>0.0</td>\n",
       "      <td>0.0</td>\n",
       "      <td>0.0</td>\n",
       "      <td>0.0</td>\n",
       "      <td>1.0</td>\n",
       "      <td>0.0</td>\n",
       "      <td>0.0</td>\n",
       "      <td>0.0</td>\n",
       "      <td>1.0</td>\n",
       "    </tr>\n",
       "    <tr>\n",
       "      <th>3</th>\n",
       "      <td>0.0</td>\n",
       "      <td>0.0</td>\n",
       "      <td>0.0</td>\n",
       "      <td>0.0</td>\n",
       "      <td>1.0</td>\n",
       "      <td>0.0</td>\n",
       "      <td>0.0</td>\n",
       "      <td>1.0</td>\n",
       "      <td>0.0</td>\n",
       "      <td>0.0</td>\n",
       "      <td>1.0</td>\n",
       "      <td>0.0</td>\n",
       "    </tr>\n",
       "    <tr>\n",
       "      <th>4</th>\n",
       "      <td>0.0</td>\n",
       "      <td>0.0</td>\n",
       "      <td>0.0</td>\n",
       "      <td>0.0</td>\n",
       "      <td>1.0</td>\n",
       "      <td>1.0</td>\n",
       "      <td>0.0</td>\n",
       "      <td>0.0</td>\n",
       "      <td>0.0</td>\n",
       "      <td>0.0</td>\n",
       "      <td>1.0</td>\n",
       "      <td>0.0</td>\n",
       "    </tr>\n",
       "    <tr>\n",
       "      <th>...</th>\n",
       "      <td>...</td>\n",
       "      <td>...</td>\n",
       "      <td>...</td>\n",
       "      <td>...</td>\n",
       "      <td>...</td>\n",
       "      <td>...</td>\n",
       "      <td>...</td>\n",
       "      <td>...</td>\n",
       "      <td>...</td>\n",
       "      <td>...</td>\n",
       "      <td>...</td>\n",
       "      <td>...</td>\n",
       "    </tr>\n",
       "    <tr>\n",
       "      <th>135470</th>\n",
       "      <td>1.0</td>\n",
       "      <td>0.0</td>\n",
       "      <td>0.0</td>\n",
       "      <td>0.0</td>\n",
       "      <td>0.0</td>\n",
       "      <td>1.0</td>\n",
       "      <td>0.0</td>\n",
       "      <td>0.0</td>\n",
       "      <td>0.0</td>\n",
       "      <td>0.0</td>\n",
       "      <td>1.0</td>\n",
       "      <td>0.0</td>\n",
       "    </tr>\n",
       "    <tr>\n",
       "      <th>135471</th>\n",
       "      <td>0.0</td>\n",
       "      <td>0.0</td>\n",
       "      <td>1.0</td>\n",
       "      <td>0.0</td>\n",
       "      <td>0.0</td>\n",
       "      <td>0.0</td>\n",
       "      <td>0.0</td>\n",
       "      <td>1.0</td>\n",
       "      <td>0.0</td>\n",
       "      <td>0.0</td>\n",
       "      <td>1.0</td>\n",
       "      <td>0.0</td>\n",
       "    </tr>\n",
       "    <tr>\n",
       "      <th>135472</th>\n",
       "      <td>0.0</td>\n",
       "      <td>0.0</td>\n",
       "      <td>0.0</td>\n",
       "      <td>1.0</td>\n",
       "      <td>0.0</td>\n",
       "      <td>0.0</td>\n",
       "      <td>0.0</td>\n",
       "      <td>1.0</td>\n",
       "      <td>0.0</td>\n",
       "      <td>0.0</td>\n",
       "      <td>1.0</td>\n",
       "      <td>0.0</td>\n",
       "    </tr>\n",
       "    <tr>\n",
       "      <th>135473</th>\n",
       "      <td>0.0</td>\n",
       "      <td>0.0</td>\n",
       "      <td>1.0</td>\n",
       "      <td>0.0</td>\n",
       "      <td>0.0</td>\n",
       "      <td>0.0</td>\n",
       "      <td>0.0</td>\n",
       "      <td>1.0</td>\n",
       "      <td>0.0</td>\n",
       "      <td>0.0</td>\n",
       "      <td>1.0</td>\n",
       "      <td>0.0</td>\n",
       "    </tr>\n",
       "    <tr>\n",
       "      <th>135474</th>\n",
       "      <td>0.0</td>\n",
       "      <td>0.0</td>\n",
       "      <td>0.0</td>\n",
       "      <td>1.0</td>\n",
       "      <td>0.0</td>\n",
       "      <td>0.0</td>\n",
       "      <td>1.0</td>\n",
       "      <td>0.0</td>\n",
       "      <td>0.0</td>\n",
       "      <td>0.0</td>\n",
       "      <td>1.0</td>\n",
       "      <td>0.0</td>\n",
       "    </tr>\n",
       "  </tbody>\n",
       "</table>\n",
       "<p>135475 rows × 12 columns</p>\n",
       "</div>"
      ],
      "text/plain": [
       "        AGE_GROUP_[18, 30)  AGE_GROUP_[30, 45)  AGE_GROUP_[45, 60)  \\\n",
       "0                      0.0                 0.0                 0.0   \n",
       "1                      0.0                 0.0                 0.0   \n",
       "2                      0.0                 0.0                 1.0   \n",
       "3                      0.0                 0.0                 0.0   \n",
       "4                      0.0                 0.0                 0.0   \n",
       "...                    ...                 ...                 ...   \n",
       "135470                 1.0                 0.0                 0.0   \n",
       "135471                 0.0                 0.0                 1.0   \n",
       "135472                 0.0                 0.0                 0.0   \n",
       "135473                 0.0                 0.0                 1.0   \n",
       "135474                 0.0                 0.0                 0.0   \n",
       "\n",
       "        AGE_GROUP_[60, 75)  AGE_GROUP_[75, 120)  SES_GROUP_HI  SES_GROUP_LOW  \\\n",
       "0                      1.0                  0.0           1.0            0.0   \n",
       "1                      1.0                  0.0           0.0            0.0   \n",
       "2                      0.0                  0.0           0.0            0.0   \n",
       "3                      0.0                  1.0           0.0            0.0   \n",
       "4                      0.0                  1.0           1.0            0.0   \n",
       "...                    ...                  ...           ...            ...   \n",
       "135470                 0.0                  0.0           1.0            0.0   \n",
       "135471                 0.0                  0.0           0.0            0.0   \n",
       "135472                 1.0                  0.0           0.0            0.0   \n",
       "135473                 0.0                  0.0           0.0            0.0   \n",
       "135474                 1.0                  0.0           0.0            1.0   \n",
       "\n",
       "        SES_GROUP_MID  SES_GROUP_OTHER  MIGZAR_ARAB  MIGZAR_GENERAL  \\\n",
       "0                 0.0              0.0          0.0             1.0   \n",
       "1                 1.0              0.0          0.0             1.0   \n",
       "2                 1.0              0.0          0.0             0.0   \n",
       "3                 1.0              0.0          0.0             1.0   \n",
       "4                 0.0              0.0          0.0             1.0   \n",
       "...               ...              ...          ...             ...   \n",
       "135470            0.0              0.0          0.0             1.0   \n",
       "135471            1.0              0.0          0.0             1.0   \n",
       "135472            1.0              0.0          0.0             1.0   \n",
       "135473            1.0              0.0          0.0             1.0   \n",
       "135474            0.0              0.0          0.0             1.0   \n",
       "\n",
       "        MIGZAR_HAREDI  \n",
       "0                 0.0  \n",
       "1                 0.0  \n",
       "2                 1.0  \n",
       "3                 0.0  \n",
       "4                 0.0  \n",
       "...               ...  \n",
       "135470            0.0  \n",
       "135471            0.0  \n",
       "135472            0.0  \n",
       "135473            0.0  \n",
       "135474            0.0  \n",
       "\n",
       "[135475 rows x 12 columns]"
      ]
     },
     "execution_count": 72,
     "metadata": {},
     "output_type": "execute_result"
    }
   ],
   "source": [
    "enc = OneHotEncoder(handle_unknown = 'ignore')\n",
    "enc.fit(data[cat_cols])\n",
    "data_cat_enc = pd.DataFrame(enc.transform(data[cat_cols]).toarray(),\n",
    "                            columns=enc.get_feature_names(cat_cols),\n",
    "                            index=data.index)\n",
    "data_cat_enc"
   ]
  },
  {
   "cell_type": "code",
   "execution_count": 73,
   "metadata": {
    "ExecuteTime": {
     "end_time": "2021-10-21T22:26:28.254465Z",
     "start_time": "2021-10-21T22:26:28.209789Z"
    }
   },
   "outputs": [],
   "source": [
    "data_no_cat = data.drop(axis=1, labels=cat_cols)\n",
    "data = pd.concat([data_no_cat, data_cat_enc], axis=1)"
   ]
  },
  {
   "cell_type": "code",
   "execution_count": 74,
   "metadata": {
    "ExecuteTime": {
     "end_time": "2021-10-21T22:26:29.675079Z",
     "start_time": "2021-10-21T22:26:29.673244Z"
    }
   },
   "outputs": [],
   "source": [
    "assert len(cat_cols) + len(int_columns) + len(float_columns) == how_many_columns1"
   ]
  },
  {
   "cell_type": "code",
   "execution_count": 75,
   "metadata": {
    "ExecuteTime": {
     "end_time": "2021-10-21T22:26:29.878679Z",
     "start_time": "2021-10-21T22:26:29.874615Z"
    }
   },
   "outputs": [],
   "source": [
    "how_many_columns2 = data.shape[1]"
   ]
  },
  {
   "cell_type": "code",
   "execution_count": 76,
   "metadata": {},
   "outputs": [],
   "source": [
    "with open(\"../train/utilities_train/one_hot_encoder\", \"wb\") as f: \n",
    "    pickle.dump(enc, f)"
   ]
  },
  {
   "cell_type": "code",
   "execution_count": 77,
   "metadata": {},
   "outputs": [],
   "source": [
    "with open('../train/configuration_train/columns_to_encode.json', 'w') as outfile:\n",
    "    json.dump(cat_cols, outfile)"
   ]
  },
  {
   "cell_type": "markdown",
   "metadata": {},
   "source": [
    "### Define the target variable"
   ]
  },
  {
   "cell_type": "markdown",
   "metadata": {},
   "source": [
    "We have to make the decision on what period of time we are looking at, it is possible that someone got diabetes two days ago and therefore his target variable is 0 but in a year the target variable will be 1.<br>\n",
    "We decided to look at a time period of 10 years from the moment diabetes was discovered.\n",
    "Therefore:<br>\n",
    "1. Anyone who has had kidney deterioration after 10 years will get in the variable the target 0\n",
    "2. Anyone who found out about diabetes less than 10 years ago and whose target variable is currently 0 will be deleted from the data set - he may develop kidney disease later but within the 10 year time window."
   ]
  },
  {
   "cell_type": "code",
   "execution_count": 78,
   "metadata": {
    "ExecuteTime": {
     "end_time": "2021-10-21T22:26:31.656799Z",
     "start_time": "2021-10-21T22:26:31.589008Z"
    }
   },
   "outputs": [],
   "source": [
    "# 1\n",
    "data.loc[data['TIME_CRF'] > 10, 'EVENT_CRF'] = 0\n",
    "# 2\n",
    "data = data.loc[~((data['TIME_CRF'] < 10) & (data['EVENT_CRF'] == 0))]"
   ]
  },
  {
   "cell_type": "code",
   "execution_count": 79,
   "metadata": {
    "ExecuteTime": {
     "end_time": "2021-10-21T22:26:31.949036Z",
     "start_time": "2021-10-21T22:26:31.945096Z"
    },
    "scrolled": true
   },
   "outputs": [
    {
     "name": "stdout",
     "output_type": "stream",
     "text": [
      "Number of rows: 59274\n"
     ]
    }
   ],
   "source": [
    "how_many_rows2 = data.shape[0]\n",
    "print('Number of rows:', how_many_rows2)"
   ]
  },
  {
   "cell_type": "code",
   "execution_count": 80,
   "metadata": {
    "ExecuteTime": {
     "end_time": "2021-10-21T22:26:34.079460Z",
     "start_time": "2021-10-21T22:26:33.999033Z"
    },
    "scrolled": true
   },
   "outputs": [
    {
     "data": {
      "image/png": "[encoded data removed]",
      "text/plain": [
       "<Figure size 432x288 with 1 Axes>"
      ]
     },
     "metadata": {
      "needs_background": "light"
     },
     "output_type": "display_data"
    }
   ],
   "source": [
    "dis_label = data['EVENT_CRF'].value_counts(normalize=True)\n",
    "sns.barplot(x=dis_label.index, y=dis_label.values)\n",
    "plt.title('Target Variable Distribution')\n",
    "plt.show()"
   ]
  },
  {
   "cell_type": "markdown",
   "metadata": {},
   "source": [
    "**The target variable is unbalanced**"
   ]
  },
  {
   "cell_type": "markdown",
   "metadata": {},
   "source": [
    "### Train Validation Test split"
   ]
  },
  {
   "cell_type": "code",
   "execution_count": 81,
   "metadata": {
    "ExecuteTime": {
     "end_time": "2021-10-21T22:26:36.059531Z",
     "start_time": "2021-10-21T22:26:36.011137Z"
    }
   },
   "outputs": [],
   "source": [
    "train, test = train_test_split(data, test_size=0.2, shuffle=True, stratify=data['EVENT_CRF'], random_state=0)"
   ]
  },
  {
   "cell_type": "code",
   "execution_count": 82,
   "metadata": {
    "ExecuteTime": {
     "end_time": "2021-10-21T22:26:36.338809Z",
     "start_time": "2021-10-21T22:26:36.334094Z"
    },
    "scrolled": false
   },
   "outputs": [
    {
     "name": "stdout",
     "output_type": "stream",
     "text": [
      "Train size: 47419\n",
      "Test size: 11855\n"
     ]
    }
   ],
   "source": [
    "print('Train size:', train.shape[0])\n",
    "print('Test size:', test.shape[0])"
   ]
  },
  {
   "cell_type": "code",
   "execution_count": 83,
   "metadata": {
    "ExecuteTime": {
     "end_time": "2021-10-21T22:26:36.885920Z",
     "start_time": "2021-10-21T22:26:36.878966Z"
    }
   },
   "outputs": [],
   "source": [
    "train_target = train['EVENT_CRF'].value_counts(normalize=True)\n",
    "test_target = test['EVENT_CRF'].value_counts(normalize=True)"
   ]
  },
  {
   "cell_type": "code",
   "execution_count": 84,
   "metadata": {
    "ExecuteTime": {
     "end_time": "2021-10-21T22:26:38.523565Z",
     "start_time": "2021-10-21T22:26:38.406456Z"
    },
    "scrolled": false
   },
   "outputs": [
    {
     "data": {
      "image/png": "[encoded data removed]",
      "text/plain": [
       "<Figure size 720x360 with 2 Axes>"
      ]
     },
     "metadata": {
      "needs_background": "light"
     },
     "output_type": "display_data"
    }
   ],
   "source": [
    "f, ax = plt.subplots(1,2, sharey=True, figsize=(10,5))\n",
    "f.tight_layout(w_pad=0.5)\n",
    "\n",
    "sns.barplot(x=train_target.index, y=train_target.values, ax = ax[0])\n",
    "ax[0].set_title('Target Variable Distribution - Train')\n",
    "\n",
    "sns.barplot(x=test_target.index, y=test_target.values, ax = ax[1])\n",
    "ax[1].set_title('Target Variable Distribution - Test')\n",
    "\n",
    "plt.show()\n"
   ]
  },
  {
   "cell_type": "markdown",
   "metadata": {},
   "source": [
    "Let's see if there is a big difference in the target variable between women and men"
   ]
  },
  {
   "cell_type": "code",
   "execution_count": 85,
   "metadata": {
    "scrolled": false
   },
   "outputs": [
    {
     "data": {
      "image/png": "[encoded data removed]",
      "text/plain": [
       "<Figure size 432x288 with 1 Axes>"
      ]
     },
     "metadata": {
      "needs_background": "light"
     },
     "output_type": "display_data"
    }
   ],
   "source": [
    "sns.barplot(x='IS_MALE', y='EVENT_CRF', data=train, ci=95)\n",
    "plt.title('% EVENT_CRF=1 by Gender')\n",
    "plt.show()"
   ]
  },
  {
   "cell_type": "markdown",
   "metadata": {},
   "source": [
    "**It can be clearly seen that the percentage of positives in the men's group is greater than the percentage of positives in the women's group - with confidence of 95% and even more.**"
   ]
  },
  {
   "cell_type": "code",
   "execution_count": 86,
   "metadata": {
    "scrolled": true
   },
   "outputs": [
    {
     "data": {
      "image/png": "[encoded data removed]",
      "text/plain": [
       "<Figure size 1440x360 with 3 Axes>"
      ]
     },
     "metadata": {
      "needs_background": "light"
     },
     "output_type": "display_data"
    }
   ],
   "source": [
    "f, ax = plt.subplots(1,3, figsize=(20,5), sharey=True)\n",
    "sns.barplot(x='MIGZAR_ARAB', y='EVENT_CRF', data=train, ci=95, ax=ax[0])\n",
    "ax[0].set_title('% EVENT_CRF=1 by MIGZAR_ARAB')\n",
    "\n",
    "sns.barplot(x='MIGZAR_GENERAL', y='EVENT_CRF', data=train, ci=95, ax=ax[1])\n",
    "ax[1].set_title('% EVENT_CRF=1 by MIGZAR_GENERAL')\n",
    "\n",
    "sns.barplot(x='MIGZAR_HAREDI', y='EVENT_CRF', data=train, ci=95, ax=ax[2])\n",
    "ax[2].set_title('% EVENT_CRF=1 by MIGZAR_HAREDI')\n",
    "\n",
    "plt.show()"
   ]
  },
  {
   "cell_type": "markdown",
   "metadata": {},
   "source": [
    "1. With a confidence of 95% we can say the **Arab population has more positives**.\n",
    "2. With 95% confidence we can say that the % positives in MIGZAR_GENERAL **is not different** from the others.\n",
    "3. With 95% confidence we can say that the % positives in MIGZAR_HAREDI **is not different** from the others."
   ]
  },
  {
   "cell_type": "code",
   "execution_count": 87,
   "metadata": {
    "scrolled": true
   },
   "outputs": [
    {
     "data": {
      "image/png": "[encoded data removed]",
      "text/plain": [
       "<Figure size 1440x360 with 3 Axes>"
      ]
     },
     "metadata": {
      "needs_background": "light"
     },
     "output_type": "display_data"
    }
   ],
   "source": [
    "f, ax = plt.subplots(1,3, figsize=(20,5), sharey=True)\n",
    "sns.barplot(x='MIGZAR_ARAB', y='EVENT_CRF',hue='IS_MALE', data=train, ci=95, ax=ax[0])\n",
    "ax[0].set_title('% EVENT_CRF=1 by  MIGZAR_ARAB & IS_MALE')\n",
    "\n",
    "sns.barplot(x='MIGZAR_GENERAL', y='EVENT_CRF',hue='IS_MALE', data=train, ci=95, ax=ax[1])\n",
    "ax[1].set_title('% EVENT_CRF=1 by  MIGZAR_GENERAL & IS_MALE')\n",
    "ax[1].get_legend().remove()\n",
    "\n",
    "sns.barplot(x='MIGZAR_HAREDI', y='EVENT_CRF',hue='IS_MALE', data=train, ci=95, ax=ax[2])\n",
    "ax[2].set_title('% EVENT_CRF=1 by  MIGZAR_HAREDI & IS_MALE')\n",
    "ax[2].get_legend().remove()\n",
    "\n",
    "plt.show()"
   ]
  },
  {
   "cell_type": "markdown",
   "metadata": {},
   "source": [
    "1. With a confidence of 95% we can say that **the percentage of positive women in the Arab sector is higher than the percentage of positive women in the other sectors**.\n",
    "2. With a confidence of 95% we can say that **the percentage of positive men in the Arab sector is not different from the men in the other sectors.**\n",
    "3. With a confidence of 95% we can say that **the percentage of positive Arab men is greater than the percentage of positive Arab women**.\n",
    "4. With a confidence of 95% we can say that **the percentage of positive men in the General sector is not different from the men in the other sectors.**\n",
    "5. With a confidence of 95% we can say that **the percentage of positive men in the MIGZAR_HAREDI  is lower than the percentage of positive men in the other sectors**."
   ]
  },
  {
   "cell_type": "code",
   "execution_count": 88,
   "metadata": {
    "scrolled": true
   },
   "outputs": [
    {
     "data": {
      "image/png": "[encoded data removed]",
      "text/plain": [
       "<Figure size 1440x360 with 4 Axes>"
      ]
     },
     "metadata": {
      "needs_background": "light"
     },
     "output_type": "display_data"
    }
   ],
   "source": [
    "f, ax = plt.subplots(1,4, figsize=(20,5), sharey=True)\n",
    "sns.barplot(x='SES_GROUP_HI', y='EVENT_CRF', data=train, ci=95, ax=ax[0])\n",
    "ax[0].set_title('% EVENT_CRF=1 by SES_GROUP_HI')\n",
    "\n",
    "sns.barplot(x='SES_GROUP_LOW', y='EVENT_CRF', data=train, ci=95, ax=ax[1])\n",
    "ax[1].set_title('% EVENT_CRF=1 by SES_GROUP_LOW')\n",
    "\n",
    "sns.barplot(x='SES_GROUP_MID', y='EVENT_CRF', data=train, ci=95, ax=ax[2])\n",
    "ax[2].set_title('% EVENT_CRF=1 by SES_GROUP_MID')\n",
    "\n",
    "sns.barplot(x='SES_GROUP_OTHER', y='EVENT_CRF', data=train, ci=95, ax=ax[3])\n",
    "ax[3].set_title('% EVENT_CRF=1 by SES_GROUP_OTHER')\n",
    "\n",
    "plt.show()"
   ]
  },
  {
   "cell_type": "markdown",
   "metadata": {},
   "source": [
    "1. With a confidence of 95% we can say that **the percentage of positives in SES_GROUP_HI is lower than the percentage of positives in the other groups.**\n",
    "2. With a confidence of 95% we can say that **the percentage of positives in SES_GROUP_LOW is higher than the percentage of positives in the other groups.**"
   ]
  },
  {
   "cell_type": "code",
   "execution_count": 89,
   "metadata": {
    "scrolled": true
   },
   "outputs": [
    {
     "data": {
      "image/png": "[encoded data removed]",
      "text/plain": [
       "<Figure size 2520x360 with 7 Axes>"
      ]
     },
     "metadata": {
      "needs_background": "light"
     },
     "output_type": "display_data"
    }
   ],
   "source": [
    "is_columns = [c for c in train.columns if 'IS_' in c and 'MALE' not in c]\n",
    "f, ax = plt.subplots(1,len(is_columns), figsize=(35,5), sharey=True)\n",
    "for i in range(len(is_columns)):\n",
    "    sns.barplot(x=is_columns[i], y='EVENT_CRF', data=train, ci=95, ax=ax[i])\n",
    "    ax[i].set_title(f'% EVENT_CRF=1 by {is_columns[i]}')\n",
    "\n",
    "\n",
    "plt.show()\n"
   ]
  },
  {
   "cell_type": "markdown",
   "metadata": {},
   "source": [
    "In general, a value of 1 in the IS_ * columns increases the chance of developing kidney disease.<br>\n",
    "The most influential background diseases seem to be: IS_DEMENTIA, IS_ART_SCLE_GEN, IS_TROMBOPHILIA."
   ]
  },
  {
   "cell_type": "code",
   "execution_count": 90,
   "metadata": {
    "scrolled": true
   },
   "outputs": [
    {
     "data": {
      "image/png": "[encoded data removed]",
      "text/plain": [
       "<Figure size 432x288 with 1 Axes>"
      ]
     },
     "metadata": {
      "needs_background": "light"
     },
     "output_type": "display_data"
    }
   ],
   "source": [
    "sns.histplot(x=\"AGE_AT_SDATE\", data=train.loc[train['EVENT_CRF'] == 1], stat='density', color='y', label='Positive')\n",
    "sns.histplot(x=\"AGE_AT_SDATE\", data=train.loc[train['EVENT_CRF'] == 0], stat='density', label='Negative')\n",
    "plt.title('Distribution of AGE_AT_SDATE')\n",
    "plt.legend()\n",
    "plt.show()"
   ]
  },
  {
   "cell_type": "markdown",
   "metadata": {},
   "source": [
    "The age of onset of diabetes in people who have developed kidney disease appears to be later. Did they really get diabetes at a later age or were they diabetic and found out about it late?"
   ]
  },
  {
   "cell_type": "markdown",
   "metadata": {},
   "source": [
    "### Benchmark"
   ]
  },
  {
   "cell_type": "markdown",
   "metadata": {},
   "source": [
    "In order to check if our data provide added value and if possible build an effective model that will give significant predictions we will want to set a benchmark and then build a very simple model that will give you a sign if we are in the right direction."
   ]
  },
  {
   "cell_type": "markdown",
   "metadata": {},
   "source": [
    "Because our mission is a mission that deals with human life and can save lives the recall is terribly important to us. So we decided that our benchmark would be to predict for everyone 1."
   ]
  },
  {
   "cell_type": "markdown",
   "metadata": {},
   "source": [
    "**The benchmark predictions:**"
   ]
  },
  {
   "cell_type": "code",
   "execution_count": 91,
   "metadata": {
    "ExecuteTime": {
     "end_time": "2021-10-21T22:26:43.140617Z",
     "start_time": "2021-10-21T22:26:43.099569Z"
    }
   },
   "outputs": [],
   "source": [
    "train_benchmark, test_benchmark = train_test_split(train, test_size=0.2, shuffle=True, stratify=train['EVENT_CRF'])"
   ]
  },
  {
   "cell_type": "code",
   "execution_count": 92,
   "metadata": {
    "ExecuteTime": {
     "end_time": "2021-10-21T22:26:43.370588Z",
     "start_time": "2021-10-21T22:26:43.362526Z"
    }
   },
   "outputs": [],
   "source": [
    "y_pred_bechmark = np.ones_like(test_benchmark)"
   ]
  },
  {
   "cell_type": "code",
   "execution_count": 93,
   "metadata": {
    "ExecuteTime": {
     "end_time": "2021-10-21T22:26:43.713695Z",
     "start_time": "2021-10-21T22:26:43.710717Z"
    }
   },
   "outputs": [],
   "source": [
    "assert y_pred_bechmark.shape[0] ==  y_pred_bechmark.shape[0]"
   ]
  },
  {
   "cell_type": "markdown",
   "metadata": {},
   "source": [
    "**Building a basemodel**"
   ]
  },
  {
   "cell_type": "code",
   "execution_count": 94,
   "metadata": {
    "ExecuteTime": {
     "end_time": "2021-10-21T22:26:46.959161Z",
     "start_time": "2021-10-21T22:26:46.947660Z"
    }
   },
   "outputs": [],
   "source": [
    "y_train_benchmark = train_benchmark['EVENT_CRF']\n",
    "X_train_benchmark = train_benchmark.drop(['EVENT_CRF', 'TIME_CRF', 'IDS'], axis=1)"
   ]
  },
  {
   "cell_type": "code",
   "execution_count": 95,
   "metadata": {
    "ExecuteTime": {
     "end_time": "2021-10-21T22:26:48.081143Z",
     "start_time": "2021-10-21T22:26:47.981280Z"
    }
   },
   "outputs": [],
   "source": [
    "sampler = RandomOverSampler()\n",
    "X_train_new, y_train_new = sampler.fit_resample(X_train_benchmark, y_train_benchmark)"
   ]
  },
  {
   "cell_type": "code",
   "execution_count": 96,
   "metadata": {
    "ExecuteTime": {
     "end_time": "2021-10-21T22:26:49.428854Z",
     "start_time": "2021-10-21T22:26:49.422018Z"
    }
   },
   "outputs": [],
   "source": [
    "y_test_benchmark = test_benchmark['EVENT_CRF']\n",
    "X_test_benchmark = test_benchmark.drop(['EVENT_CRF', 'TIME_CRF', 'IDS'], axis=1)"
   ]
  },
  {
   "cell_type": "markdown",
   "metadata": {},
   "source": [
    "We have decided that at this point only use columns that do not have missing values."
   ]
  },
  {
   "cell_type": "code",
   "execution_count": 97,
   "metadata": {
    "ExecuteTime": {
     "end_time": "2021-10-21T22:26:50.817057Z",
     "start_time": "2021-10-21T22:26:50.804855Z"
    }
   },
   "outputs": [],
   "source": [
    "no_na = train.isnull().sum() == 0\n",
    "no_na = no_na[no_na]"
   ]
  },
  {
   "cell_type": "code",
   "execution_count": 98,
   "metadata": {
    "ExecuteTime": {
     "end_time": "2021-10-21T22:26:53.115012Z",
     "start_time": "2021-10-21T22:26:53.111523Z"
    }
   },
   "outputs": [],
   "source": [
    "col_to_keep = list(no_na.index)\n",
    "col_to_keep = [c for c in col_to_keep if c in list(X_train_benchmark.columns)]"
   ]
  },
  {
   "cell_type": "code",
   "execution_count": 99,
   "metadata": {
    "ExecuteTime": {
     "end_time": "2021-10-21T22:26:56.048709Z",
     "start_time": "2021-10-21T22:26:56.037298Z"
    }
   },
   "outputs": [],
   "source": [
    "X_train_new = X_train_new[col_to_keep]\n",
    "X_test_benchmark = X_test_benchmark[col_to_keep]"
   ]
  },
  {
   "cell_type": "code",
   "execution_count": 100,
   "metadata": {
    "ExecuteTime": {
     "end_time": "2021-10-21T22:27:07.476426Z",
     "start_time": "2021-10-21T22:27:07.468718Z"
    }
   },
   "outputs": [],
   "source": [
    "fpr, tpr, thresholds =  roc_curve(y_test_benchmark, np.ones(y_test_benchmark.shape[0]) , pos_label=1)\n",
    "roc_auc =  auc(fpr, tpr)"
   ]
  },
  {
   "cell_type": "code",
   "execution_count": 101,
   "metadata": {
    "ExecuteTime": {
     "end_time": "2021-10-21T22:27:12.019430Z",
     "start_time": "2021-10-21T22:27:11.866392Z"
    }
   },
   "outputs": [],
   "source": [
    "lg = LogisticRegression(solver='liblinear')\n",
    "lg.fit(X_train_new, y_train_new)\n",
    "y_pred = lg.predict(X_test_benchmark)"
   ]
  },
  {
   "cell_type": "code",
   "execution_count": 102,
   "metadata": {
    "ExecuteTime": {
     "end_time": "2021-10-21T22:27:20.307166Z",
     "start_time": "2021-10-21T22:27:20.219564Z"
    },
    "scrolled": true
   },
   "outputs": [
    {
     "data": {
      "image/png": "[encoded data removed]",
      "text/plain": [
       "<Figure size 432x288 with 1 Axes>"
      ]
     },
     "metadata": {
      "needs_background": "light"
     },
     "output_type": "display_data"
    }
   ],
   "source": [
    "plot_roc_curve(lg, X_test_benchmark, y_test_benchmark)\n",
    "plt.plot(fpr, tpr, color='darkorange', label='Benchmark (AUC = %0.2f)' % roc_auc)\n",
    "plt.legend(loc=\"lower right\")\n",
    "plt.title('Receiver Operating Characteristic')\n",
    "plt.show()"
   ]
  },
  {
   "cell_type": "code",
   "execution_count": 103,
   "metadata": {
    "ExecuteTime": {
     "end_time": "2021-10-21T22:29:00.425945Z",
     "start_time": "2021-10-21T22:29:00.412760Z"
    }
   },
   "outputs": [
    {
     "data": {
      "text/plain": [
       "0.424"
      ]
     },
     "execution_count": 103,
     "metadata": {},
     "output_type": "execute_result"
    }
   ],
   "source": [
    "round(f1_score(y_test_benchmark, y_pred),3)"
   ]
  },
  {
   "cell_type": "markdown",
   "metadata": {},
   "source": [
    "**Our basemodel indeed got higher AUC than the benchmark, so we want to continue to build a better and more complex model.**"
   ]
  },
  {
   "cell_type": "markdown",
   "metadata": {},
   "source": [
    "### Missing Values"
   ]
  },
  {
   "cell_type": "code",
   "execution_count": 104,
   "metadata": {
    "ExecuteTime": {
     "end_time": "2021-10-21T21:44:53.962164Z",
     "start_time": "2021-10-21T21:44:53.949817Z"
    }
   },
   "outputs": [],
   "source": [
    "na = train.isna().sum()"
   ]
  },
  {
   "cell_type": "code",
   "execution_count": 105,
   "metadata": {
    "ExecuteTime": {
     "end_time": "2021-10-21T21:44:54.211448Z",
     "start_time": "2021-10-21T21:44:54.204020Z"
    },
    "scrolled": false
   },
   "outputs": [
    {
     "data": {
      "text/plain": [
       "SE_HYPERTENSION                   30342\n",
       "SE_ISCHEMIC_MI                    45774\n",
       "SE_CVA_TIA                        47064\n",
       "SE_DEMENTIA                       47322\n",
       "SE_ART_SCLE_GEN                   46980\n",
       "SE_TROMBOPHILIA                   46695\n",
       "SE_IBD                            47208\n",
       "BMI_AT_BASELINE                   26509\n",
       "SYSTOLA_AT_BASELINE               11182\n",
       "DIASTOLA_AT_BASELINE              11182\n",
       "Creatinine_B_AT_BASELINE           6832\n",
       "Albumin_B_AT_BASELINE             20745\n",
       "Urea_B_AT_BASELINE                 8503\n",
       "Glucose_B_AT_BASELINE              5493\n",
       "HbA1C_AT_BASELINE                  9226\n",
       "RBCRed_Blood_Cells_AT_BASELINE     7966\n",
       "Hemoglobin_AT_BASELINE             8001\n",
       "Ferritin_AT_BASELINE              40014\n",
       "AST_GOT_AT_BASELINE               14198\n",
       "ALT_GPT_AT_BASELINE                8516\n",
       "Bilirubin_Total_AT_BASELINE       23811\n",
       "Na_Sodium_B_AT_BASELINE           11376\n",
       "K_Potassium_B_AT_BASELINE         10764\n",
       "CaCalcium_B_AT_BASELINE           19946\n",
       "HDLCholesterol_AT_BASELINE         6253\n",
       "LDLCholesterol_AT_BASELINE         7388\n",
       "Triglycerides_AT_BASELINE          5892\n",
       "PTH_AT_BASELINE                   46330\n",
       "dtype: int64"
      ]
     },
     "execution_count": 105,
     "metadata": {},
     "output_type": "execute_result"
    }
   ],
   "source": [
    "na[na > 0]"
   ]
  },
  {
   "cell_type": "markdown",
   "metadata": {},
   "source": [
    "As we can see there are a lot of missing values. <br>\n",
    "We are going to split the missing values into two groups:\n",
    "1. Missing values of tests\n",
    "2. Missing values of SE_* columns"
   ]
  },
  {
   "cell_type": "markdown",
   "metadata": {},
   "source": [
    "##### Test columns"
   ]
  },
  {
   "cell_type": "markdown",
   "metadata": {},
   "source": [
    "The columns of the tests contain data on the various tests performed by diabetics.<br>We can see that there are relatively many missing values in the columns of the tests. And the question arises, are the missing values random? Or there is a reason why certain observations have missing values.<br>   "
   ]
  },
  {
   "cell_type": "code",
   "execution_count": 106,
   "metadata": {
    "ExecuteTime": {
     "end_time": "2021-10-21T21:44:57.115754Z",
     "start_time": "2021-10-21T21:44:57.111505Z"
    }
   },
   "outputs": [],
   "source": [
    "test_columns = ['BMI_AT_BASELINE', 'SYSTOLA_AT_BASELINE',\n",
    "       'DIASTOLA_AT_BASELINE', 'Creatinine_B_AT_BASELINE',\n",
    "       'Albumin_B_AT_BASELINE', 'Urea_B_AT_BASELINE', 'Glucose_B_AT_BASELINE',\n",
    "       'HbA1C_AT_BASELINE', 'RBCRed_Blood_Cells_AT_BASELINE',\n",
    "       'Hemoglobin_AT_BASELINE', 'Ferritin_AT_BASELINE', 'AST_GOT_AT_BASELINE',\n",
    "       'ALT_GPT_AT_BASELINE', 'Bilirubin_Total_AT_BASELINE',\n",
    "       'Na_Sodium_B_AT_BASELINE', 'K_Potassium_B_AT_BASELINE',\n",
    "       'CaCalcium_B_AT_BASELINE', 'HDLCholesterol_AT_BASELINE',\n",
    "       'LDLCholesterol_AT_BASELINE', 'Triglycerides_AT_BASELINE', 'PTH_AT_BASELINE']"
   ]
  },
  {
   "cell_type": "code",
   "execution_count": 107,
   "metadata": {
    "ExecuteTime": {
     "end_time": "2021-10-21T21:44:57.838253Z",
     "start_time": "2021-10-21T21:44:57.794216Z"
    }
   },
   "outputs": [],
   "source": [
    "pd.options.mode.chained_assignment = None  # default='warn'\n",
    "# fixing the null values\n",
    "MEAN_COL = train[test_columns].mean()\n",
    "train[test_columns] = train[test_columns].fillna(MEAN_COL)\n",
    "test[test_columns]  = test[test_columns].fillna(MEAN_COL)"
   ]
  },
  {
   "cell_type": "markdown",
   "metadata": {},
   "source": [
    "Confirm we do not have missing values"
   ]
  },
  {
   "cell_type": "code",
   "execution_count": 108,
   "metadata": {
    "ExecuteTime": {
     "end_time": "2021-10-21T21:44:59.122725Z",
     "start_time": "2021-10-21T21:44:59.107369Z"
    }
   },
   "outputs": [],
   "source": [
    "assert train[test_columns].isna().sum().sum() == 0\n",
    "assert test[test_columns].isna().sum().sum() == 0"
   ]
  },
  {
   "cell_type": "markdown",
   "metadata": {},
   "source": [
    "##### SE* columns"
   ]
  },
  {
   "cell_type": "markdown",
   "metadata": {},
   "source": [
    "The columns of the SE* contain data on the time that has passed between a previous condition and contracting diabetes.<br>We can see that there are relatively many missing values -- presumably those who have not been listed to have that condition should have a null value<br>   "
   ]
  },
  {
   "cell_type": "code",
   "execution_count": 109,
   "metadata": {
    "ExecuteTime": {
     "end_time": "2021-10-21T21:45:12.189251Z",
     "start_time": "2021-10-21T21:45:12.186221Z"
    }
   },
   "outputs": [],
   "source": [
    "SE_columns = ['SE_HYPERTENSION',\n",
    "'SE_ISCHEMIC_MI',\n",
    "'SE_CVA_TIA',\n",
    "'SE_DEMENTIA',\n",
    "'SE_ART_SCLE_GEN',\n",
    "'SE_TROMBOPHILIA',\n",
    "'SE_IBD']"
   ]
  },
  {
   "cell_type": "code",
   "execution_count": 110,
   "metadata": {
    "ExecuteTime": {
     "end_time": "2021-10-21T21:45:16.584856Z",
     "start_time": "2021-10-21T21:45:16.565900Z"
    }
   },
   "outputs": [],
   "source": [
    "# fixing the null values\n",
    "train[SE_columns] = train[SE_columns].fillna(0)\n",
    "test[SE_columns]  = test[SE_columns].fillna(0)"
   ]
  },
  {
   "cell_type": "code",
   "execution_count": 111,
   "metadata": {
    "ExecuteTime": {
     "end_time": "2021-10-21T21:45:16.995560Z",
     "start_time": "2021-10-21T21:45:16.984939Z"
    }
   },
   "outputs": [],
   "source": [
    "assert train[SE_columns].isna().sum().sum() == 0\n",
    "assert test[SE_columns].isna().sum().sum() == 0"
   ]
  },
  {
   "cell_type": "code",
   "execution_count": 112,
   "metadata": {},
   "outputs": [],
   "source": [
    "preprocessing_parameters = dict(train[test_columns].mean(), **{c: 0 for c in SE_columns})"
   ]
  },
  {
   "cell_type": "code",
   "execution_count": 113,
   "metadata": {},
   "outputs": [],
   "source": [
    "with open('../train/configuration_train/fill_missing_values_constants.json', 'w') as outfile:\n",
    "    json.dump(preprocessing_parameters, outfile)"
   ]
  },
  {
   "cell_type": "markdown",
   "metadata": {},
   "source": [
    "# Unsupervised Learning"
   ]
  },
  {
   "cell_type": "markdown",
   "metadata": {
    "scrolled": false
   },
   "source": [
    "### Standard Scaler"
   ]
  },
  {
   "cell_type": "code",
   "execution_count": 80,
   "metadata": {
    "ExecuteTime": {
     "end_time": "2021-10-21T19:13:39.636578Z",
     "start_time": "2021-10-21T19:13:39.633330Z"
    }
   },
   "outputs": [],
   "source": [
    "from sklearn.preprocessing import StandardScaler\n",
    "from sklearn.cluster import KMeans\n",
    "from sklearn.decomposition import PCA"
   ]
  },
  {
   "cell_type": "code",
   "execution_count": 81,
   "metadata": {
    "ExecuteTime": {
     "end_time": "2021-10-21T19:13:40.113313Z",
     "start_time": "2021-10-21T19:13:40.103275Z"
    }
   },
   "outputs": [],
   "source": [
    "train_unsupervised = train.drop(['TIME_CRF', 'EVENT_CRF', 'IDS'], axis=1)"
   ]
  },
  {
   "cell_type": "code",
   "execution_count": 82,
   "metadata": {
    "ExecuteTime": {
     "end_time": "2021-10-21T19:13:41.760632Z",
     "start_time": "2021-10-21T19:13:41.703582Z"
    }
   },
   "outputs": [],
   "source": [
    "scaler = StandardScaler()\n",
    "train_unsupervised_array = scaler.fit_transform(train_unsupervised)"
   ]
  },
  {
   "cell_type": "markdown",
   "metadata": {},
   "source": [
    "### Kmeans"
   ]
  },
  {
   "cell_type": "code",
   "execution_count": null,
   "metadata": {
    "ExecuteTime": {
     "end_time": "2021-10-21T19:15:33.270514Z",
     "start_time": "2021-10-21T19:13:42.751101Z"
    }
   },
   "outputs": [],
   "source": [
    "wscc = []\n",
    "for k in range(2,200,5):\n",
    "    kmeans = KMeans(k)\n",
    "    kmeans.fit(train_unsupervised_array)\n",
    "    wscc.append(kmeans.inertia_)"
   ]
  },
  {
   "cell_type": "code",
   "execution_count": null,
   "metadata": {
    "ExecuteTime": {
     "end_time": "2021-10-21T19:15:33.272920Z",
     "start_time": "2021-10-21T19:15:33.272913Z"
    }
   },
   "outputs": [],
   "source": [
    "sns.lineplot(x = range(2,200,5), y = wscc)\n",
    "plt.title('WSCC As a Function of K')\n",
    "plt.show()"
   ]
  },
  {
   "cell_type": "code",
   "execution_count": null,
   "metadata": {
    "ExecuteTime": {
     "end_time": "2021-10-21T19:15:33.273548Z",
     "start_time": "2021-10-21T19:15:33.273543Z"
    }
   },
   "outputs": [],
   "source": [
    "kmeans = KMeans(50, random_state=0, )\n",
    "kmeans.fit(train_unsupervised_array)"
   ]
  },
  {
   "cell_type": "code",
   "execution_count": null,
   "metadata": {
    "ExecuteTime": {
     "end_time": "2021-10-21T19:15:33.274294Z",
     "start_time": "2021-10-21T19:15:33.274289Z"
    }
   },
   "outputs": [],
   "source": [
    "clusters = kmeans.predict(train_unsupervised_array)"
   ]
  },
  {
   "cell_type": "code",
   "execution_count": null,
   "metadata": {
    "ExecuteTime": {
     "end_time": "2021-10-21T19:15:33.274957Z",
     "start_time": "2021-10-21T19:15:33.274951Z"
    }
   },
   "outputs": [],
   "source": [
    "train_unsupervised['Cluster'] = clusters"
   ]
  },
  {
   "cell_type": "code",
   "execution_count": null,
   "metadata": {
    "ExecuteTime": {
     "end_time": "2021-10-21T19:15:33.275481Z",
     "start_time": "2021-10-21T19:15:33.275475Z"
    }
   },
   "outputs": [],
   "source": [
    "train_unsupervised['label'] = train['EVENT_CRF']"
   ]
  },
  {
   "cell_type": "code",
   "execution_count": null,
   "metadata": {
    "ExecuteTime": {
     "end_time": "2021-10-21T19:15:33.276089Z",
     "start_time": "2021-10-21T19:15:33.276084Z"
    }
   },
   "outputs": [],
   "source": [
    "sns.set(rc={'figure.figsize':(10,5)})\n"
   ]
  },
  {
   "cell_type": "code",
   "execution_count": null,
   "metadata": {
    "ExecuteTime": {
     "end_time": "2021-10-21T19:15:33.277013Z",
     "start_time": "2021-10-21T19:15:33.277007Z"
    }
   },
   "outputs": [],
   "source": [
    "print('Cluster Sizes\\n', train_unsupervised['Cluster'].value_counts().sort_index())\n",
    "sns.barplot(x = train_unsupervised['Cluster'], y = train_unsupervised['label'])\n",
    "plt.title('% Positive In Each Cluster')\n",
    "plt.xticks(rotation=90)\n",
    "plt.show()"
   ]
  },
  {
   "cell_type": "code",
   "execution_count": null,
   "metadata": {
    "ExecuteTime": {
     "end_time": "2021-10-21T19:15:33.277705Z",
     "start_time": "2021-10-21T19:15:33.277699Z"
    },
    "scrolled": true
   },
   "outputs": [],
   "source": [
    "train_unsupervised.groupby('Cluster')['label'].mean().sort_values(ascending=False).head(10)"
   ]
  },
  {
   "cell_type": "markdown",
   "metadata": {},
   "source": [
    "### PCA"
   ]
  },
  {
   "cell_type": "code",
   "execution_count": null,
   "metadata": {
    "ExecuteTime": {
     "end_time": "2021-10-21T19:15:33.278191Z",
     "start_time": "2021-10-21T19:15:33.278182Z"
    }
   },
   "outputs": [],
   "source": [
    "pca = PCA(2)\n",
    "two_dim = pca.fit_transform(train_unsupervised_array)"
   ]
  },
  {
   "cell_type": "code",
   "execution_count": null,
   "metadata": {
    "ExecuteTime": {
     "end_time": "2021-10-21T19:15:33.278597Z",
     "start_time": "2021-10-21T19:15:33.278592Z"
    }
   },
   "outputs": [],
   "source": [
    "sns.scatterplot(x=two_dim[:,0], y=two_dim[:,1], hue=train_unsupervised['label'])\n",
    "plt.title('Project The Data in 2 Dimensions')\n",
    "plt.show()"
   ]
  },
  {
   "cell_type": "markdown",
   "metadata": {},
   "source": [
    "# Supervised Learning"
   ]
  },
  {
   "cell_type": "markdown",
   "metadata": {},
   "source": [
    "### Model Selection"
   ]
  },
  {
   "cell_type": "code",
   "execution_count": 114,
   "metadata": {
    "ExecuteTime": {
     "end_time": "2021-10-21T21:45:50.643377Z",
     "start_time": "2021-10-21T21:45:50.634428Z"
    }
   },
   "outputs": [],
   "source": [
    "X_train = train.drop(['IDS', 'TIME_CRF', 'EVENT_CRF'], axis=1)\n",
    "y_train = train['EVENT_CRF']"
   ]
  },
  {
   "cell_type": "code",
   "execution_count": 115,
   "metadata": {
    "scrolled": true
   },
   "outputs": [],
   "source": [
    "final_features_and_target = {'final_features': list(X_train.columns),\n",
    "                            'target': 'EVENT_CRF'}"
   ]
  },
  {
   "cell_type": "code",
   "execution_count": 117,
   "metadata": {},
   "outputs": [],
   "source": [
    "with open('../train/configuration_train/final_features_and_target.json', 'w') as outfile:\n",
    "    json.dump(final_features_and_target, outfile)"
   ]
  },
  {
   "cell_type": "code",
   "execution_count": 52,
   "metadata": {
    "ExecuteTime": {
     "end_time": "2021-10-21T21:45:52.817564Z",
     "start_time": "2021-10-21T21:45:52.813344Z"
    }
   },
   "outputs": [],
   "source": [
    "rf_clf = RandomForestClassifier()\n",
    "ada_clf = AdaBoostClassifier()\n",
    "log_clf = LogisticRegression(solver='liblinear')\n",
    "svm_clf = svm.SVC() \n",
    "knn_clf = KNeighborsClassifier()"
   ]
  },
  {
   "cell_type": "code",
   "execution_count": 53,
   "metadata": {
    "ExecuteTime": {
     "end_time": "2021-10-21T21:45:53.318806Z",
     "start_time": "2021-10-21T21:45:53.307313Z"
    }
   },
   "outputs": [],
   "source": [
    "params_dict_ada = [{'n_estimators': [100, 150, 200, 250, 300, 500, 600, 800, 1000, 1200, 1400] , \n",
    "               'algorithm': ['SAMME', 'SAMME.R'],\n",
    "               'learning_rate':[0.8, 0.9, 1, 1.05, 1.1, 1.2, 1.3, 1.4, 1.5]}]\n",
    "\n",
    "params_dict_rf = [{'n_estimators': [100, 300, 600, 1000] , \n",
    "               'max_depth': [2, 4, 6 , 10, 15, 20, 30, 35],\n",
    "               'min_samples_split': [50, 60, 100, 120, 200, 300 , 400, 500]}]\n",
    "\n",
    "params_dict_log = [{'max_iter': [50, 100, 150, 300] , \n",
    "               'fit_intercept': [True, False]}]\n",
    "\n",
    "params_dict_svm = [{'degree': [1, 2, 3, 4], \n",
    "               'C': [0.85, 0.95, 1, 1.05, 1.1]}]\n",
    "\n",
    "params_dict_knn = [{'n_neighbors': [3, 5, 10, 15, 20, 30, 40, 50, 100, 200, 500]}]"
   ]
  },
  {
   "cell_type": "code",
   "execution_count": 58,
   "metadata": {
    "ExecuteTime": {
     "end_time": "2021-10-21T21:53:56.619269Z",
     "start_time": "2021-10-21T21:53:56.616013Z"
    }
   },
   "outputs": [],
   "source": [
    "models = [ada_clf] #, rf_clf, log_clf, svm_clf, knn_clf]\n",
    "params = [params_dict_ada, params_dict_rf, params_dict_log, params_dict_svm, params_dict_knn]\n",
    "how_many_iter = [25, 15, 2, 10, 8]"
   ]
  },
  {
   "cell_type": "code",
   "execution_count": 59,
   "metadata": {
    "ExecuteTime": {
     "end_time": "2021-10-21T21:59:55.496690Z",
     "start_time": "2021-10-21T21:53:57.345900Z"
    },
    "scrolled": true
   },
   "outputs": [
    {
     "name": "stdout",
     "output_type": "stream",
     "text": [
      "Fitting 3 folds for each of 25 candidates, totalling 75 fits\n"
     ]
    }
   ],
   "source": [
    "results = {}\n",
    "for i in range(len(models)):\n",
    "    random_search = RandomizedSearchCV(models[i], \n",
    "                                      params[i], \n",
    "                                      cv = 3, \n",
    "                                      scoring='f1',\n",
    "                                      verbose=2,\n",
    "                                      n_jobs=-1,\n",
    "                                      n_iter=how_many_iter[i])\n",
    "    random_search.fit(X_train, y_train)\n",
    "    results[str(models[i])] = random_search"
   ]
  },
  {
   "cell_type": "code",
   "execution_count": 60,
   "metadata": {
    "ExecuteTime": {
     "end_time": "2021-10-21T21:59:55.502154Z",
     "start_time": "2021-10-21T21:59:55.497772Z"
    },
    "scrolled": true
   },
   "outputs": [],
   "source": [
    "results_df = pd.DataFrame(columns=['Model', 'Best F1 Score'])\n",
    "for m in results:\n",
    "    results_df = results_df.append({'Model': str(results[m].best_estimator_),\n",
    "                                    'Best F1 Score': results[m].best_score_}, ignore_index=True)\n",
    "results_df = results_df.sort_values('Best F1 Score', ascending=False)"
   ]
  },
  {
   "cell_type": "code",
   "execution_count": 63,
   "metadata": {
    "ExecuteTime": {
     "end_time": "2021-10-21T21:59:55.565741Z",
     "start_time": "2021-10-21T21:59:55.563800Z"
    },
    "scrolled": true
   },
   "outputs": [],
   "source": [
    "best_model = results[results_df.iloc[0,0].split('(')[0] + '()'].best_estimator_"
   ]
  },
  {
   "cell_type": "code",
   "execution_count": null,
   "metadata": {
    "ExecuteTime": {
     "end_time": "2021-10-21T21:52:39.106305Z",
     "start_time": "2021-10-21T21:52:39.106301Z"
    }
   },
   "outputs": [],
   "source": [
    "second_model = results[results_df.iloc[1,0].split('(')[0] + '()'].best_estimator_"
   ]
  },
  {
   "cell_type": "markdown",
   "metadata": {},
   "source": [
    "### Test"
   ]
  },
  {
   "cell_type": "code",
   "execution_count": null,
   "metadata": {
    "ExecuteTime": {
     "end_time": "2021-10-12T05:18:52.993716Z",
     "start_time": "2021-10-12T05:18:52.993711Z"
    }
   },
   "outputs": [],
   "source": [
    "X_test = test.drop(['IDS', 'TIME_CRF', 'EVENT_CRF'], axis=1)\n",
    "y_test = test['EVENT_CRF']"
   ]
  },
  {
   "cell_type": "code",
   "execution_count": null,
   "metadata": {
    "ExecuteTime": {
     "end_time": "2021-10-12T05:18:52.994057Z",
     "start_time": "2021-10-12T05:18:52.994053Z"
    }
   },
   "outputs": [],
   "source": [
    "pred_test = best_model.predict(X_test)"
   ]
  },
  {
   "cell_type": "code",
   "execution_count": null,
   "metadata": {
    "ExecuteTime": {
     "end_time": "2021-10-12T05:18:52.994461Z",
     "start_time": "2021-10-12T05:18:52.994456Z"
    }
   },
   "outputs": [],
   "source": [
    "f1_score_test = round(f1_score(y_test, pred_test),3)"
   ]
  },
  {
   "cell_type": "code",
   "execution_count": null,
   "metadata": {
    "ExecuteTime": {
     "end_time": "2021-10-12T05:18:52.994909Z",
     "start_time": "2021-10-12T05:18:52.994904Z"
    },
    "scrolled": true
   },
   "outputs": [],
   "source": [
    "print('Performance on the test (F1):', f1_score_test)"
   ]
  },
  {
   "cell_type": "code",
   "execution_count": null,
   "metadata": {
    "ExecuteTime": {
     "end_time": "2021-10-12T05:18:52.995254Z",
     "start_time": "2021-10-12T05:18:52.995249Z"
    },
    "scrolled": true
   },
   "outputs": [],
   "source": [
    "plot_roc_curve(best_model, X_test, y_test)\n",
    "plt.show()"
   ]
  },
  {
   "cell_type": "markdown",
   "metadata": {},
   "source": [
    "**The AUC increased from 0.76 to 0.83**"
   ]
  },
  {
   "cell_type": "markdown",
   "metadata": {},
   "source": [
    "### Interpretability "
   ]
  },
  {
   "cell_type": "code",
   "execution_count": null,
   "metadata": {
    "ExecuteTime": {
     "end_time": "2021-10-12T05:18:52.995697Z",
     "start_time": "2021-10-12T05:18:52.995693Z"
    }
   },
   "outputs": [],
   "source": [
    "feature_importace_ada =  pd.DataFrame({'Feature': X_train.columns, 'Importace':best_model.feature_importances_}).sort_values('Importace', ascending=False)"
   ]
  },
  {
   "cell_type": "code",
   "execution_count": null,
   "metadata": {
    "ExecuteTime": {
     "end_time": "2021-10-12T05:18:52.996144Z",
     "start_time": "2021-10-12T05:18:52.996139Z"
    }
   },
   "outputs": [],
   "source": [
    "feature_importace_rf =  pd.DataFrame({'Feature': X_train.columns, 'Importace':second_model.feature_importances_}).sort_values('Importace', ascending=False)"
   ]
  },
  {
   "cell_type": "code",
   "execution_count": null,
   "metadata": {
    "ExecuteTime": {
     "end_time": "2021-10-12T05:18:52.996526Z",
     "start_time": "2021-10-12T05:18:52.996520Z"
    },
    "scrolled": true
   },
   "outputs": [],
   "source": [
    "sns.barplot(x = feature_importace_ada.Feature, y = feature_importace_ada.Importace)\n",
    "plt.xticks(rotation=90)\n",
    "plt.title('Feature Importance - AdaBoost')\n",
    "plt.show()"
   ]
  },
  {
   "cell_type": "code",
   "execution_count": null,
   "metadata": {
    "ExecuteTime": {
     "end_time": "2021-10-12T05:18:52.996947Z",
     "start_time": "2021-10-12T05:18:52.996942Z"
    }
   },
   "outputs": [],
   "source": [
    "sns.barplot(x = feature_importace_rf.Feature, y = feature_importace_rf.Importace)\n",
    "plt.xticks(rotation=90)\n",
    "plt.title('Feature Importance - Random Forest')\n",
    "plt.show()"
   ]
  }
 ],
 "metadata": {
  "kernelspec": {
   "display_name": "Python 3",
   "language": "python",
   "name": "python3"
  },
  "language_info": {
   "codemirror_mode": {
    "name": "ipython",
    "version": 3
   },
   "file_extension": ".py",
   "mimetype": "text/x-python",
   "name": "python",
   "nbconvert_exporter": "python",
   "pygments_lexer": "ipython3",
   "version": "3.8.5"
  }
 },
 "nbformat": 4,
 "nbformat_minor": 4
}
